{
 "cells": [
  {
   "cell_type": "markdown",
   "id": "d5b65ab3-1d15-4d96-8c3e-c5a268878760",
   "metadata": {},
   "source": [
    "# Download data from apifootball"
   ]
  },
  {
   "cell_type": "code",
   "execution_count": 124,
   "id": "c9542496-ae6c-4a66-817e-c5fd825125fa",
   "metadata": {},
   "outputs": [],
   "source": [
    "import requests\n",
    "import json\n",
    "from getpass import getpass"
   ]
  },
  {
   "cell_type": "code",
   "execution_count": 125,
   "id": "038d4b41-c98e-4ecd-8e23-704c444525de",
   "metadata": {},
   "outputs": [
    {
     "name": "stdin",
     "output_type": "stream",
     "text": [
      "Insert api key:  ········\n"
     ]
    }
   ],
   "source": [
    "api_key = getpass(\"Insert api key: \")"
   ]
  },
  {
   "cell_type": "code",
   "execution_count": 126,
   "id": "31d3c667-8502-460f-adaf-89b11eb7f10c",
   "metadata": {},
   "outputs": [],
   "source": [
    "base_url = \"https://apiv3.apifootball.com/?action=get_events&from={}&to={}&league_id=152&APIkey={}\""
   ]
  },
  {
   "cell_type": "code",
   "execution_count": 127,
   "id": "9575fc50-cd87-41ce-96d3-4bc8ae98567b",
   "metadata": {},
   "outputs": [],
   "source": [
    "request1 = requests.get(base_url.format(\"2022-08-01\", \"2022-11-11\", api_key))"
   ]
  },
  {
   "cell_type": "code",
   "execution_count": 112,
   "id": "65ab2692-10b8-450f-ba12-0110731f5d81",
   "metadata": {},
   "outputs": [],
   "source": [
    "request2 = requests.get(base_url.format(\"2022-11-12\", \"2023-05-29\", api_key))"
   ]
  },
  {
   "cell_type": "code",
   "execution_count": 113,
   "id": "fa439b61-0ce8-4092-8d9c-44e8e5589bde",
   "metadata": {},
   "outputs": [],
   "source": [
    "def save_json(request, output_file):\n",
    "    if request.status_code == 200:\n",
    "        try:\n",
    "            json_data = request.json()\n",
    "            with open(output_file, \"w\") as f:\n",
    "                json.dump(json_data, f, indent=4)\n",
    "            print(f\"JSON data saved to {output_file}\")\n",
    "        except json.JSONDecodeError:\n",
    "            print(\"Error: The response content is not valid JSON.\")\n",
    "    else:\n",
    "        print(f\"Error: Request failed with status code {response.status_code}\")"
   ]
  },
  {
   "cell_type": "code",
   "execution_count": 114,
   "id": "b32ed913-af6c-4cc8-8038-f671e3cabee3",
   "metadata": {},
   "outputs": [
    {
     "name": "stdout",
     "output_type": "stream",
     "text": [
      "JSON data saved to request1.json\n",
      "JSON data saved to request2.json\n"
     ]
    }
   ],
   "source": [
    "save_json(request1, \"request1.json\")\n",
    "save_json(request2, \"request2.json\")"
   ]
  },
  {
   "cell_type": "markdown",
   "id": "9e328bee-76e1-45ed-a9e6-a3f0a7f41c67",
   "metadata": {},
   "source": [
    "# Database design\n",
    "\n",
    "For this task, it is sufficient to work with two tables:\n",
    "\n",
    "1. events: raw events data from apifootball (fact table)\n",
    "2. teams: columns team_id and team_name (dimension)"
   ]
  },
  {
   "cell_type": "code",
   "execution_count": 115,
   "id": "c7f32757-f531-4b52-a396-c763ba9f0fe5",
   "metadata": {},
   "outputs": [],
   "source": [
    "from pyspark.sql import SparkSession"
   ]
  },
  {
   "cell_type": "code",
   "execution_count": 116,
   "id": "32981fa9-f952-4f6c-8ca2-1f0aa32837dd",
   "metadata": {},
   "outputs": [],
   "source": [
    "spark = SparkSession.builder.getOrCreate()"
   ]
  },
  {
   "cell_type": "code",
   "execution_count": 117,
   "id": "fe903edb-2c90-43ef-9851-b302d3dd2526",
   "metadata": {},
   "outputs": [],
   "source": [
    "events = spark.read.json(\"request*.json\", multiLine=True)"
   ]
  },
  {
   "cell_type": "code",
   "execution_count": 118,
   "id": "2a719945-43dd-40be-9ef9-52b1fb0f8217",
   "metadata": {},
   "outputs": [],
   "source": [
    "events.createOrReplaceTempView(\"events\")"
   ]
  },
  {
   "cell_type": "code",
   "execution_count": 119,
   "id": "312b6063-70cb-4699-b67a-9439b61ed623",
   "metadata": {},
   "outputs": [],
   "source": [
    "spark.sql(\n",
    "\"\"\"\n",
    "with all_teams as (\n",
    "    (\n",
    "        select match_hometeam_id as team_id,\n",
    "            match_hometeam_name as team_name\n",
    "        from events\n",
    "    )\n",
    "    union all\n",
    "    (\n",
    "        select match_awayteam_id as team_id,\n",
    "            match_awayteam_name as team_name\n",
    "        from events\n",
    "    )\n",
    ")\n",
    "\n",
    "select team_id,\n",
    "    min(team_name) as team_name\n",
    "from all_teams\n",
    "group by team_id\n",
    "\"\"\"\n",
    ").createOrReplaceTempView(\"teams\")"
   ]
  },
  {
   "cell_type": "markdown",
   "id": "dbee60a6-88f7-42b6-8dbf-694b07d07571",
   "metadata": {},
   "source": [
    "# SQL Queries"
   ]
  },
  {
   "cell_type": "markdown",
   "id": "6bd9f176-c212-4aeb-b03e-be269f4b21da",
   "metadata": {},
   "source": [
    "## Final league table (query_a)"
   ]
  },
  {
   "cell_type": "code",
   "execution_count": 137,
   "id": "6087c1cc-0f47-40b7-9218-6aa7087ef55c",
   "metadata": {},
   "outputs": [
    {
     "name": "stderr",
     "output_type": "stream",
     "text": [
      "23/09/10 19:49:44 WARN WindowExec: No Partition Defined for Window operation! Moving all data to a single partition, this can cause serious performance degradation.\n",
      "23/09/10 19:49:44 WARN WindowExec: No Partition Defined for Window operation! Moving all data to a single partition, this can cause serious performance degradation.\n",
      "23/09/10 19:49:44 WARN WindowExec: No Partition Defined for Window operation! Moving all data to a single partition, this can cause serious performance degradation.\n",
      "23/09/10 19:49:44 WARN WindowExec: No Partition Defined for Window operation! Moving all data to a single partition, this can cause serious performance degradation.\n",
      "23/09/10 19:49:44 WARN WindowExec: No Partition Defined for Window operation! Moving all data to a single partition, this can cause serious performance degradation.\n",
      "23/09/10 19:49:44 WARN WindowExec: No Partition Defined for Window operation! Moving all data to a single partition, this can cause serious performance degradation.\n",
      "23/09/10 19:49:44 WARN WindowExec: No Partition Defined for Window operation! Moving all data to a single partition, this can cause serious performance degradation.\n",
      "23/09/10 19:49:44 WARN WindowExec: No Partition Defined for Window operation! Moving all data to a single partition, this can cause serious performance degradation.\n",
      "23/09/10 19:49:44 WARN WindowExec: No Partition Defined for Window operation! Moving all data to a single partition, this can cause serious performance degradation.\n",
      "23/09/10 19:49:44 WARN WindowExec: No Partition Defined for Window operation! Moving all data to a single partition, this can cause serious performance degradation.\n",
      "23/09/10 19:49:44 WARN WindowExec: No Partition Defined for Window operation! Moving all data to a single partition, this can cause serious performance degradation.\n",
      "23/09/10 19:49:44 WARN WindowExec: No Partition Defined for Window operation! Moving all data to a single partition, this can cause serious performance degradation.\n",
      "23/09/10 19:49:44 WARN WindowExec: No Partition Defined for Window operation! Moving all data to a single partition, this can cause serious performance degradation.\n"
     ]
    },
    {
     "name": "stdout",
     "output_type": "stream",
     "text": [
      "+--------+--------------------+--------------+---+----+----+------------+--------------+------+\n",
      "|position|           team_name|matches_played|won|draw|lost|goals_scored|goals_conceded|points|\n",
      "+--------+--------------------+--------------+---+----+----+------------+--------------+------+\n",
      "|       1|     Manchester City|            38| 28|   5|   5|          94|            33|    89|\n",
      "|       2|             Arsenal|            38| 26|   6|   6|          88|            43|    84|\n",
      "|       3|   Manchester United|            38| 23|   6|   9|          58|            43|    75|\n",
      "|       4|           Newcastle|            38| 19|  14|   5|          68|            33|    71|\n",
      "|       5|           Liverpool|            38| 19|  10|   9|          75|            47|    67|\n",
      "|       6|Brighton & Hove A...|            38| 18|   8|  12|          72|            53|    62|\n",
      "|       7|         Aston Villa|            38| 18|   7|  13|          51|            46|    61|\n",
      "|       8|           Tottenham|            38| 18|   6|  14|          70|            63|    60|\n",
      "|       9|           Brentford|            38| 15|  14|   9|          58|            46|    59|\n",
      "|      10|              Fulham|            38| 15|   7|  16|          55|            53|    52|\n",
      "|      11|      Crystal Palace|            38| 11|  12|  15|          40|            49|    45|\n",
      "|      12|             Chelsea|            38| 11|  11|  16|          38|            47|    44|\n",
      "|      13|Wolverhampton Wan...|            38| 11|   8|  19|          31|            58|    41|\n",
      "|      14|            West Ham|            38| 11|   7|  20|          42|            55|    40|\n",
      "|      15|     AFC Bournemouth|            38| 11|   6|  21|          37|            71|    39|\n",
      "|      16|   Nottingham Forest|            38|  9|  11|  18|          38|            68|    38|\n",
      "|      17|             Everton|            38|  8|  12|  18|          34|            57|    36|\n",
      "|      18|      Leicester City|            38|  9|   7|  22|          51|            68|    34|\n",
      "|      19|        Leeds United|            38|  7|  10|  21|          48|            78|    31|\n",
      "|      20|         Southampton|            38|  6|   7|  25|          36|            73|    25|\n",
      "+--------+--------------------+--------------+---+----+----+------------+--------------+------+\n",
      "\n"
     ]
    },
    {
     "name": "stderr",
     "output_type": "stream",
     "text": [
      "23/09/10 19:49:45 WARN WindowExec: No Partition Defined for Window operation! Moving all data to a single partition, this can cause serious performance degradation.\n",
      "23/09/10 19:49:45 WARN WindowExec: No Partition Defined for Window operation! Moving all data to a single partition, this can cause serious performance degradation.\n",
      "23/09/10 19:49:45 WARN WindowExec: No Partition Defined for Window operation! Moving all data to a single partition, this can cause serious performance degradation.\n",
      "23/09/10 19:49:45 WARN WindowExec: No Partition Defined for Window operation! Moving all data to a single partition, this can cause serious performance degradation.\n",
      "23/09/10 19:49:45 WARN WindowExec: No Partition Defined for Window operation! Moving all data to a single partition, this can cause serious performance degradation.\n",
      "23/09/10 19:49:45 WARN WindowExec: No Partition Defined for Window operation! Moving all data to a single partition, this can cause serious performance degradation.\n",
      "23/09/10 19:49:45 WARN WindowExec: No Partition Defined for Window operation! Moving all data to a single partition, this can cause serious performance degradation.\n",
      "23/09/10 19:49:45 WARN WindowExec: No Partition Defined for Window operation! Moving all data to a single partition, this can cause serious performance degradation.\n"
     ]
    }
   ],
   "source": [
    "query_a = spark.sql(\n",
    "\"\"\"\n",
    "with matches_finished as (\n",
    "    select \n",
    "        match_hometeam_id,\n",
    "        match_awayteam_id,\n",
    "        cast(match_hometeam_score as int) as match_hometeam_score,\n",
    "        cast(match_awayteam_score as int) as match_awayteam_score\n",
    "    from events\n",
    "    where match_status = 'Finished'\n",
    "),\n",
    "matches_points as (\n",
    "    select match_hometeam_id,\n",
    "        match_awayteam_id,\n",
    "        match_hometeam_score,\n",
    "        match_awayteam_score,\n",
    "        case\n",
    "            when match_hometeam_score > match_awayteam_score then 3\n",
    "            when match_hometeam_score = match_awayteam_score then 1\n",
    "            else 0\n",
    "        end as match_hometeam_points,\n",
    "        case\n",
    "            when match_hometeam_score < match_awayteam_score then 3\n",
    "            when match_hometeam_score = match_awayteam_score then 1\n",
    "            else 0\n",
    "        end as match_awayteam_points\n",
    "    from matches_finished\n",
    "),\n",
    "team_overall_results as (\n",
    "    (\n",
    "        select match_hometeam_id as team_id,\n",
    "            match_hometeam_points as points,\n",
    "            match_hometeam_score as goals_scored,\n",
    "            match_awayteam_score as goals_conceded\n",
    "        from matches_points\n",
    "    )\n",
    "    union all\n",
    "    (\n",
    "        select match_awayteam_id as team_id,\n",
    "            match_awayteam_points as points,\n",
    "            match_awayteam_score as goals_scored,\n",
    "            match_hometeam_score as goals_conceded\n",
    "        from matches_points\n",
    "    ) \n",
    "),\n",
    "league_table as (\n",
    "    select team_id,\n",
    "        count(team_id) as matches_played,\n",
    "        sum(case when goals_scored > goals_conceded then 1 else 0 end) as won,\n",
    "        sum(case when goals_scored = goals_conceded then 1 else 0 end) as draw,\n",
    "        sum(case when goals_scored < goals_conceded then 1 else 0 end) as lost,\n",
    "        sum(goals_scored) as goals_scored,\n",
    "        sum(goals_conceded) as goals_conceded,\n",
    "        sum(points) as points,\n",
    "        sum(goals_scored)- sum(goals_conceded) as goal_difference\n",
    "    from team_overall_results\n",
    "    group by team_id\n",
    ")\n",
    "\n",
    "select row_number() over (order by points desc, goal_difference desc, goals_scored desc, goals_conceded, won) as position,\n",
    "    t.team_name as team_name,\n",
    "    matches_played,\n",
    "    won,\n",
    "    draw,\n",
    "    lost,\n",
    "    goals_scored,\n",
    "    goals_conceded,\n",
    "    points\n",
    "from league_table l\n",
    "left join teams t on l.team_id = t.team_id \n",
    "\"\"\"\n",
    ")\n",
    "\n",
    "query_a.show()\n",
    "\n",
    "query_a.toPandas().to_csv(\"query_a.csv\", index=False)"
   ]
  },
  {
   "cell_type": "markdown",
   "id": "9bee12d0-4a37-4969-b9d9-35c51136ebb1",
   "metadata": {},
   "source": [
    "## Display all teams sorted by Away goals scored (query_b)"
   ]
  },
  {
   "cell_type": "code",
   "execution_count": 138,
   "id": "8b22bbb8-6502-438a-887c-64aa8a7e3770",
   "metadata": {},
   "outputs": [
    {
     "name": "stdout",
     "output_type": "stream",
     "text": [
      "+--------------------+-----+\n",
      "|           team_name|goals|\n",
      "+--------------------+-----+\n",
      "|             Arsenal|   35|\n",
      "|Brighton & Hove A...|   35|\n",
      "|     Manchester City|   34|\n",
      "|           Tottenham|   33|\n",
      "|           Newcastle|   32|\n",
      "|           Liverpool|   29|\n",
      "|      Leicester City|   28|\n",
      "|              Fulham|   24|\n",
      "|           Brentford|   23|\n",
      "|        Leeds United|   22|\n",
      "|   Manchester United|   22|\n",
      "|      Crystal Palace|   19|\n",
      "|         Aston Villa|   18|\n",
      "|             Chelsea|   18|\n",
      "|             Everton|   18|\n",
      "|     AFC Bournemouth|   17|\n",
      "|         Southampton|   17|\n",
      "|            West Ham|   16|\n",
      "|Wolverhampton Wan...|   12|\n",
      "|   Nottingham Forest|   11|\n",
      "+--------------------+-----+\n",
      "\n"
     ]
    }
   ],
   "source": [
    "query_b = spark.sql(\n",
    "\"\"\"\n",
    "with id_goals as (\n",
    "    select match_awayteam_id as team_id,\n",
    "        sum(cast(match_awayteam_score as int)) as goals\n",
    "    from events e\n",
    "    group by team_id\n",
    ")\n",
    "select team_name,\n",
    "    goals\n",
    "from id_goals i\n",
    "left join teams t on i.team_id = t.team_id\n",
    "order by goals desc, team_name\n",
    "\"\"\"\n",
    ")\n",
    "\n",
    "query_b.show()\n",
    "\n",
    "query_b.toPandas().to_csv(\"query_b.csv\", index=False)"
   ]
  },
  {
   "cell_type": "markdown",
   "id": "e30ec37c-0548-400d-ba2d-c0bb7aa6e99e",
   "metadata": {},
   "source": [
    "## Top 5 Referees with Most Cards (query_c)"
   ]
  },
  {
   "cell_type": "code",
   "execution_count": 139,
   "id": "79d5264a-859a-4e7a-9dab-990e7af312cb",
   "metadata": {},
   "outputs": [
    {
     "name": "stdout",
     "output_type": "stream",
     "text": [
      "+------------+-----+\n",
      "|referee_name|cards|\n",
      "+------------+-----+\n",
      "|   A. Taylor|  124|\n",
      "|  P. Tierney|  117|\n",
      "|    R. Jones|  101|\n",
      "|   S. Hooper|  100|\n",
      "|   A. Madley|   93|\n",
      "+------------+-----+\n",
      "\n"
     ]
    }
   ],
   "source": [
    "query_c = spark.sql(\n",
    "\"\"\"\n",
    "select match_referee as referee_name,\n",
    "    sum(size(cards)) as cards\n",
    "from events\n",
    "group by match_referee\n",
    "order by cards desc, referee_name\n",
    "limit 5\n",
    "\"\"\"\n",
    ")\n",
    "\n",
    "query_c.show()\n",
    "\n",
    "query_c.toPandas().to_csv(\"query_c.csv\", index=False)"
   ]
  },
  {
   "cell_type": "markdown",
   "id": "60094a5e-f9bc-462d-a9c4-4dd77c968d4c",
   "metadata": {},
   "source": [
    "## Top 3 Goal Scorers by Match Round 14 (query_d)"
   ]
  },
  {
   "cell_type": "code",
   "execution_count": 140,
   "id": "9f15aedb-c019-4529-88f5-9388086cefb2",
   "metadata": {},
   "outputs": [
    {
     "name": "stdout",
     "output_type": "stream",
     "text": [
      "+-----------+---------------+-----+\n",
      "|player_name|      team_name|goals|\n",
      "+-----------+---------------+-----+\n",
      "| E. Haaland|Manchester City|   19|\n",
      "|    H. Kane|      Tottenham|   10|\n",
      "|A. Mitrovic|         Fulham|    9|\n",
      "+-----------+---------------+-----+\n",
      "\n"
     ]
    }
   ],
   "source": [
    "query_d = spark.sql(\n",
    "\"\"\"\n",
    "with exploded_goals as (\n",
    "    select match_hometeam_id,\n",
    "        match_awayteam_id,\n",
    "        explode(goalscorer) as goal\n",
    "    from events\n",
    "    where cast(match_round as int) <= 14\n",
    "),\n",
    "scorer as (\n",
    "    (\n",
    "        select match_hometeam_id as team_id,\n",
    "            goal.home_scorer as scorer\n",
    "        from exploded_goals\n",
    "        where goal.home_scorer_id <> ''\n",
    "    )\n",
    "    union all\n",
    "    (\n",
    "        select match_awayteam_id as team_id,\n",
    "            goal.away_scorer as scorer\n",
    "        from exploded_goals\n",
    "        where goal.away_scorer_id <> ''\n",
    "    )\n",
    ")\n",
    "select scorer as player_name,\n",
    "    team_name,\n",
    "    count(scorer) as goals\n",
    "from scorer s\n",
    "left join teams t on s.team_id = t.team_id\n",
    "group by team_name, scorer\n",
    "order by goals desc, player_name\n",
    "limit 3\n",
    "\"\"\"\n",
    ")\n",
    "\n",
    "query_d.show()\n",
    "\n",
    "query_d.toPandas().to_csv(\"query_d.csv\", index=False)"
   ]
  }
 ],
 "metadata": {
  "kernelspec": {
   "display_name": "Python 3 (ipykernel)",
   "language": "python",
   "name": "python3"
  },
  "language_info": {
   "codemirror_mode": {
    "name": "ipython",
    "version": 3
   },
   "file_extension": ".py",
   "mimetype": "text/x-python",
   "name": "python",
   "nbconvert_exporter": "python",
   "pygments_lexer": "ipython3",
   "version": "3.10.12"
  }
 },
 "nbformat": 4,
 "nbformat_minor": 5
}
